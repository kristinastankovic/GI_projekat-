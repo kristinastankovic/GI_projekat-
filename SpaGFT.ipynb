{
 "cells": [
  {
   "cell_type": "code",
   "execution_count": 1,
   "id": "f0ff962f-d803-4b49-a71d-bd1b160b94ae",
   "metadata": {},
   "outputs": [
    {
     "name": "stdout",
     "output_type": "stream",
     "text": [
      "Requirement already satisfied: statsmodels in /opt/conda/lib/python3.9/site-packages (0.14.0)\n",
      "Requirement already satisfied: packaging>=21.3 in /opt/conda/lib/python3.9/site-packages (from statsmodels) (23.1)\n",
      "Requirement already satisfied: scipy!=1.9.2,>=1.4 in /opt/conda/lib/python3.9/site-packages (from statsmodels) (1.8.0)\n",
      "Requirement already satisfied: numpy>=1.18 in /opt/conda/lib/python3.9/site-packages (from statsmodels) (1.21.5)\n",
      "Requirement already satisfied: patsy>=0.5.2 in /opt/conda/lib/python3.9/site-packages (from statsmodels) (0.5.3)\n",
      "Requirement already satisfied: pandas>=1.0 in /opt/conda/lib/python3.9/site-packages (from statsmodels) (1.4.2)\n",
      "Requirement already satisfied: pytz>=2020.1 in /opt/conda/lib/python3.9/site-packages (from pandas>=1.0->statsmodels) (2021.1)\n",
      "Requirement already satisfied: python-dateutil>=2.8.1 in /opt/conda/lib/python3.9/site-packages (from pandas>=1.0->statsmodels) (2.8.2)\n",
      "Requirement already satisfied: six in /opt/conda/lib/python3.9/site-packages (from patsy>=0.5.2->statsmodels) (1.16.0)\n",
      "Collecting llvmlite\n",
      "  Using cached llvmlite-0.40.0-cp39-cp39-manylinux_2_17_x86_64.manylinux2014_x86_64.whl (42.1 MB)\n",
      "Installing collected packages: llvmlite\n",
      "\u001b[31mERROR: pip's dependency resolver does not currently take into account all the packages that are installed. This behaviour is the source of the following dependency conflicts.\n",
      "numba 0.55.2 requires llvmlite<0.39,>=0.38.0rc1, but you have llvmlite 0.40.0 which is incompatible.\u001b[0m\n",
      "Successfully installed llvmlite-0.40.0\n",
      "Requirement already satisfied: SpaGFT in /opt/conda/lib/python3.9/site-packages (0.1.1.4)\n",
      "Requirement already satisfied: louvain==0.7.1 in /opt/conda/lib/python3.9/site-packages (from SpaGFT) (0.7.1)\n",
      "Requirement already satisfied: matplotlib==3.5.2 in /opt/conda/lib/python3.9/site-packages (from SpaGFT) (3.5.2)\n",
      "Requirement already satisfied: numpy==1.21.5 in /opt/conda/lib/python3.9/site-packages (from SpaGFT) (1.21.5)\n",
      "Requirement already satisfied: scikit-learn==1.0.2 in /opt/conda/lib/python3.9/site-packages (from SpaGFT) (1.0.2)\n",
      "Requirement already satisfied: plotnine==0.8.0 in /opt/conda/lib/python3.9/site-packages (from SpaGFT) (0.8.0)\n",
      "Requirement already satisfied: pandas==1.4.2 in /opt/conda/lib/python3.9/site-packages (from SpaGFT) (1.4.2)\n",
      "Requirement already satisfied: scanpy==1.9.1 in /opt/conda/lib/python3.9/site-packages (from SpaGFT) (1.9.1)\n",
      "Requirement already satisfied: scipy==1.8.0 in /opt/conda/lib/python3.9/site-packages (from SpaGFT) (1.8.0)\n",
      "Requirement already satisfied: gseapy==0.10.8 in /opt/conda/lib/python3.9/site-packages (from SpaGFT) (0.10.8)\n",
      "Requirement already satisfied: networkx==2.8 in /opt/conda/lib/python3.9/site-packages (from SpaGFT) (2.8)\n",
      "Requirement already satisfied: kneed==0.7.0 in /opt/conda/lib/python3.9/site-packages (from SpaGFT) (0.7.0)\n",
      "Requirement already satisfied: igraph==0.9.10 in /opt/conda/lib/python3.9/site-packages (from SpaGFT) (0.9.10)\n",
      "Requirement already satisfied: requests in /opt/conda/lib/python3.9/site-packages (from gseapy==0.10.8->SpaGFT) (2.26.0)\n",
      "Requirement already satisfied: bioservices in /opt/conda/lib/python3.9/site-packages (from gseapy==0.10.8->SpaGFT) (1.11.2)\n",
      "Requirement already satisfied: joblib in /opt/conda/lib/python3.9/site-packages (from gseapy==0.10.8->SpaGFT) (1.0.1)\n",
      "Requirement already satisfied: texttable>=1.6.2 in /opt/conda/lib/python3.9/site-packages (from igraph==0.9.10->SpaGFT) (1.6.7)\n",
      "Requirement already satisfied: pillow>=6.2.0 in /opt/conda/lib/python3.9/site-packages (from matplotlib==3.5.2->SpaGFT) (9.5.0)\n",
      "Requirement already satisfied: python-dateutil>=2.7 in /opt/conda/lib/python3.9/site-packages (from matplotlib==3.5.2->SpaGFT) (2.8.2)\n",
      "Requirement already satisfied: fonttools>=4.22.0 in /opt/conda/lib/python3.9/site-packages (from matplotlib==3.5.2->SpaGFT) (4.39.4)\n",
      "Requirement already satisfied: pyparsing>=2.2.1 in /opt/conda/lib/python3.9/site-packages (from matplotlib==3.5.2->SpaGFT) (2.4.7)\n",
      "Requirement already satisfied: kiwisolver>=1.0.1 in /opt/conda/lib/python3.9/site-packages (from matplotlib==3.5.2->SpaGFT) (1.3.2)\n",
      "Requirement already satisfied: cycler>=0.10 in /opt/conda/lib/python3.9/site-packages (from matplotlib==3.5.2->SpaGFT) (0.11.0)\n",
      "Requirement already satisfied: packaging>=20.0 in /opt/conda/lib/python3.9/site-packages (from matplotlib==3.5.2->SpaGFT) (23.1)\n",
      "Requirement already satisfied: pytz>=2020.1 in /opt/conda/lib/python3.9/site-packages (from pandas==1.4.2->SpaGFT) (2021.1)\n",
      "Requirement already satisfied: patsy>=0.5.1 in /opt/conda/lib/python3.9/site-packages (from plotnine==0.8.0->SpaGFT) (0.5.3)\n",
      "Requirement already satisfied: descartes>=1.1.0 in /opt/conda/lib/python3.9/site-packages (from plotnine==0.8.0->SpaGFT) (1.1.0)\n",
      "Requirement already satisfied: mizani>=0.7.3 in /opt/conda/lib/python3.9/site-packages (from plotnine==0.8.0->SpaGFT) (0.9.0)\n",
      "Requirement already satisfied: statsmodels>=0.12.1 in /opt/conda/lib/python3.9/site-packages (from plotnine==0.8.0->SpaGFT) (0.14.0)\n",
      "Requirement already satisfied: session-info in /opt/conda/lib/python3.9/site-packages (from scanpy==1.9.1->SpaGFT) (1.0.0)\n",
      "Requirement already satisfied: anndata>=0.7.4 in /opt/conda/lib/python3.9/site-packages (from scanpy==1.9.1->SpaGFT) (0.9.1)\n",
      "Requirement already satisfied: seaborn in /opt/conda/lib/python3.9/site-packages (from scanpy==1.9.1->SpaGFT) (0.11.2)\n",
      "Requirement already satisfied: tqdm in /opt/conda/lib/python3.9/site-packages (from scanpy==1.9.1->SpaGFT) (4.62.2)\n",
      "Requirement already satisfied: natsort in /opt/conda/lib/python3.9/site-packages (from scanpy==1.9.1->SpaGFT) (8.3.1)\n",
      "Requirement already satisfied: numba>=0.41.0 in /opt/conda/lib/python3.9/site-packages (from scanpy==1.9.1->SpaGFT) (0.55.2)\n",
      "Requirement already satisfied: h5py>=3 in /opt/conda/lib/python3.9/site-packages (from scanpy==1.9.1->SpaGFT) (3.4.0)\n",
      "Requirement already satisfied: umap-learn>=0.3.10 in /opt/conda/lib/python3.9/site-packages (from scanpy==1.9.1->SpaGFT) (0.5.3)\n",
      "Requirement already satisfied: threadpoolctl>=2.0.0 in /opt/conda/lib/python3.9/site-packages (from scikit-learn==1.0.2->SpaGFT) (2.2.0)\n",
      "Collecting llvmlite<0.39,>=0.38.0rc1\n",
      "  Using cached llvmlite-0.38.1-cp39-cp39-manylinux_2_17_x86_64.manylinux2014_x86_64.whl (34.5 MB)\n",
      "Requirement already satisfied: setuptools in /opt/conda/lib/python3.9/site-packages (from numba>=0.41.0->scanpy==1.9.1->SpaGFT) (58.0.4)\n",
      "Requirement already satisfied: six in /opt/conda/lib/python3.9/site-packages (from patsy>=0.5.1->plotnine==0.8.0->SpaGFT) (1.16.0)\n",
      "Requirement already satisfied: pynndescent>=0.5 in /opt/conda/lib/python3.9/site-packages (from umap-learn>=0.3.10->scanpy==1.9.1->SpaGFT) (0.5.10)\n",
      "Requirement already satisfied: requests-cache in /opt/conda/lib/python3.9/site-packages (from bioservices->gseapy==0.10.8->SpaGFT) (1.0.1)\n",
      "Requirement already satisfied: suds-community>=0.7 in /opt/conda/lib/python3.9/site-packages (from bioservices->gseapy==0.10.8->SpaGFT) (1.1.2)\n",
      "Requirement already satisfied: wrapt in /opt/conda/lib/python3.9/site-packages (from bioservices->gseapy==0.10.8->SpaGFT) (1.15.0)\n",
      "Requirement already satisfied: colorlog in /opt/conda/lib/python3.9/site-packages (from bioservices->gseapy==0.10.8->SpaGFT) (6.7.0)\n",
      "Requirement already satisfied: xmltodict in /opt/conda/lib/python3.9/site-packages (from bioservices->gseapy==0.10.8->SpaGFT) (0.13.0)\n",
      "Requirement already satisfied: lxml in /opt/conda/lib/python3.9/site-packages (from bioservices->gseapy==0.10.8->SpaGFT) (4.9.2)\n",
      "Requirement already satisfied: beautifulsoup4 in /opt/conda/lib/python3.9/site-packages (from bioservices->gseapy==0.10.8->SpaGFT) (4.10.0)\n",
      "Requirement already satisfied: appdirs in /opt/conda/lib/python3.9/site-packages (from bioservices->gseapy==0.10.8->SpaGFT) (1.4.4)\n",
      "Requirement already satisfied: grequests in /opt/conda/lib/python3.9/site-packages (from bioservices->gseapy==0.10.8->SpaGFT) (0.6.0)\n",
      "Requirement already satisfied: easydev>=0.12.0 in /opt/conda/lib/python3.9/site-packages (from bioservices->gseapy==0.10.8->SpaGFT) (0.12.1)\n",
      "Requirement already satisfied: colorama in /opt/conda/lib/python3.9/site-packages (from easydev>=0.12.0->bioservices->gseapy==0.10.8->SpaGFT) (0.4.4)\n",
      "Requirement already satisfied: pexpect in /opt/conda/lib/python3.9/site-packages (from easydev>=0.12.0->bioservices->gseapy==0.10.8->SpaGFT) (4.8.0)\n",
      "Requirement already satisfied: soupsieve>1.2 in /opt/conda/lib/python3.9/site-packages (from beautifulsoup4->bioservices->gseapy==0.10.8->SpaGFT) (2.0.1)\n",
      "Requirement already satisfied: gevent in /opt/conda/lib/python3.9/site-packages (from grequests->bioservices->gseapy==0.10.8->SpaGFT) (22.10.2)\n",
      "Requirement already satisfied: zope.interface in /opt/conda/lib/python3.9/site-packages (from gevent->grequests->bioservices->gseapy==0.10.8->SpaGFT) (6.0)\n",
      "Requirement already satisfied: zope.event in /opt/conda/lib/python3.9/site-packages (from gevent->grequests->bioservices->gseapy==0.10.8->SpaGFT) (4.6)\n",
      "Requirement already satisfied: greenlet>=2.0.0 in /opt/conda/lib/python3.9/site-packages (from gevent->grequests->bioservices->gseapy==0.10.8->SpaGFT) (2.0.2)\n",
      "Requirement already satisfied: ptyprocess>=0.5 in /opt/conda/lib/python3.9/site-packages (from pexpect->easydev>=0.12.0->bioservices->gseapy==0.10.8->SpaGFT) (0.7.0)\n",
      "Requirement already satisfied: charset-normalizer~=2.0.0 in /opt/conda/lib/python3.9/site-packages (from requests->gseapy==0.10.8->SpaGFT) (2.0.0)\n",
      "Requirement already satisfied: certifi>=2017.4.17 in /opt/conda/lib/python3.9/site-packages (from requests->gseapy==0.10.8->SpaGFT) (2021.5.30)\n",
      "Requirement already satisfied: idna<4,>=2.5 in /opt/conda/lib/python3.9/site-packages (from requests->gseapy==0.10.8->SpaGFT) (3.1)\n",
      "Requirement already satisfied: urllib3<1.27,>=1.21.1 in /opt/conda/lib/python3.9/site-packages (from requests->gseapy==0.10.8->SpaGFT) (1.26.6)\n",
      "Requirement already satisfied: attrs>=21.2 in /opt/conda/lib/python3.9/site-packages (from requests-cache->bioservices->gseapy==0.10.8->SpaGFT) (21.2.0)\n",
      "Requirement already satisfied: platformdirs>=2.5 in /opt/conda/lib/python3.9/site-packages (from requests-cache->bioservices->gseapy==0.10.8->SpaGFT) (3.5.1)\n",
      "Requirement already satisfied: url-normalize>=1.4 in /opt/conda/lib/python3.9/site-packages (from requests-cache->bioservices->gseapy==0.10.8->SpaGFT) (1.4.3)\n",
      "Requirement already satisfied: cattrs>=22.2 in /opt/conda/lib/python3.9/site-packages (from requests-cache->bioservices->gseapy==0.10.8->SpaGFT) (22.2.0)\n",
      "Requirement already satisfied: exceptiongroup in /opt/conda/lib/python3.9/site-packages (from cattrs>=22.2->requests-cache->bioservices->gseapy==0.10.8->SpaGFT) (1.1.1)\n",
      "Requirement already satisfied: stdlib-list in /opt/conda/lib/python3.9/site-packages (from session-info->scanpy==1.9.1->SpaGFT) (0.8.0)\n",
      "Installing collected packages: llvmlite\n",
      "  Attempting uninstall: llvmlite\n",
      "    Found existing installation: llvmlite 0.40.0\n",
      "    Uninstalling llvmlite-0.40.0:\n",
      "      Successfully uninstalled llvmlite-0.40.0\n",
      "Successfully installed llvmlite-0.38.1\n"
     ]
    }
   ],
   "source": [
    "!pip install statsmodels --upgrade\n",
    "!pip install --ignore-installed llvmlite\n",
    "!pip install SpaGFT"
   ]
  },
  {
   "cell_type": "code",
   "execution_count": 2,
   "id": "0ac0bdf1-b7a0-4ba9-b5f2-a3166eb92a52",
   "metadata": {},
   "outputs": [],
   "source": [
    "import SpaGFT as spg\n",
    "import numpy as np\n",
    "import pandas as pd\n",
    "import scanpy as sp\n",
    "import seaborn as sns\n",
    "import matplotlib.pyplot as plt\n",
    "from time import time\n",
    "from IPython.display import clear_output\n",
    "import squidpy as sq\n",
    "from sklearn.metrics import confusion_matrix, f1_score, roc_auc_score, ConfusionMatrixDisplay\n",
    "import pickle"
   ]
  },
  {
   "cell_type": "code",
   "execution_count": null,
   "id": "15e85f19-146d-46a7-b734-1027e343ae9c",
   "metadata": {},
   "outputs": [
    {
     "name": "stdout",
     "output_type": "stream",
     "text": [
      "(5913, 25568)\n"
     ]
    }
   ],
   "source": [
    "# Load Mouse embryo data\n",
    "adata = sp.read_h5ad('E9.5_E1S1.MOSTA.h5ad')\n",
    "print(adata.shape)"
   ]
  },
  {
   "cell_type": "code",
   "execution_count": 4,
   "id": "39e8540c-1ec2-4c3d-a535-a149d60b6b63",
   "metadata": {},
   "outputs": [],
   "source": [
    "# Load Mouse brain data\n",
    "adata = sp.read_h5ad('Mouse_brain_cell_bin.h5ad')\n",
    "print(adata.shape)"
   ]
  },
  {
   "cell_type": "code",
   "execution_count": 22,
   "id": "1380381a-920c-4cd3-bfda-18b341f8bfe9",
   "metadata": {},
   "outputs": [
    {
     "name": "stderr",
     "output_type": "stream",
     "text": [
      "/opt/conda/lib/python3.9/site-packages/seaborn/distributions.py:2619: FutureWarning: `distplot` is a deprecated function and will be removed in a future version. Please adapt your code to use either `displot` (a figure-level function with similar flexibility) or `histplot` (an axes-level function for histograms).\n",
      "  warnings.warn(msg, FutureWarning)\n"
     ]
    },
    {
     "data": {
      "text/plain": [
       "<AxesSubplot:xlabel='total_counts'>"
      ]
     },
     "execution_count": 22,
     "metadata": {},
     "output_type": "execute_result"
    },
    {
     "data": {
      "image/png": "[encoded data removed]",
      "text/plain": [
       "<Figure size 1080x288 with 4 Axes>"
      ]
     },
     "metadata": {
      "needs_background": "light"
     },
     "output_type": "display_data"
    }
   ],
   "source": [
    "# QC\n",
    "fig, axs = plt.subplots(1, 4, figsize=(15, 4))\n",
    "sns.distplot(adata.obs[\"n_genes_by_counts\"], kde=False, ax=axs[0])\n",
    "sns.distplot(adata.obs[\"total_counts\"], kde=False, bins=60, ax=axs[1])\n",
    "sns.distplot(adata.var[\"n_cells\"], kde=False, bins=60, ax=axs[2])\n",
    "sns.distplot(adata.var[\"total_counts\"], kde=False, bins=60, ax=axs[3])"
   ]
  },
  {
   "cell_type": "code",
   "execution_count": 23,
   "id": "21198abb-20c1-4af8-bf06-0d38ec9eac41",
   "metadata": {},
   "outputs": [
    {
     "name": "stdout",
     "output_type": "stream",
     "text": [
      "Filtered genes\n",
      "Normalized\n",
      "logd\n"
     ]
    }
   ],
   "source": [
    "# Preprocessing for Mouse embryo data\n",
    "sp.pp.filter_cells(adata, min_genes = np.percentile(adata.obs['n_genes_by_counts'], 5))\n",
    "sp.pp.filter_genes(adata, min_cells=30)\n",
    "print('Filtered genes')\n",
    "\n",
    "sp.pp.normalize_total(adata, inplace=True)\n",
    "print('Normalized')\n",
    "\n",
    "sp.pp.log1p(adata)\n",
    "print('logd')"
   ]
  },
  {
   "cell_type": "code",
   "execution_count": null,
   "id": "567cf825-c225-4e62-9320-1e48e45bb6a7",
   "metadata": {},
   "outputs": [],
   "source": [
    "# Preprocessing for Mouse brain data\n",
    "sp.pp.filter_genes(adata, min_cells=30)\n",
    "print('Filtered genes')\n",
    "\n",
    "sp.pp.normalize_total(adata, inplace=True)\n",
    "print('Normalized')\n",
    "\n",
    "sp.pp.log1p(adata)\n",
    "print('logd')"
   ]
  },
  {
   "cell_type": "code",
   "execution_count": 10,
   "id": "e93707d6-6054-48e0-893d-592649cbff08",
   "metadata": {},
   "outputs": [
    {
     "name": "stdout",
     "output_type": "stream",
     "text": [
      "Obatain the Laplacian matrix\n",
      "The precalculated low-frequency FMs are USED\n",
      "The precalculated high-frequency FMs are USED\n",
      "Graph Fourier Transform finished!\n",
      "SVG ranking could be found in adata.var['svg_rank']\n",
      "The spatially variable genes judged by gft_score could be found \n",
      "          in adata.var['cutoff_gft_score']\n",
      "Gene signals in frequency domain when detect SVGs could be found\n",
      "          in adata.varm['freq_domain_svg']\n",
      "The number of SVGs:  2000\n"
     ]
    }
   ],
   "source": [
    "# determine the number of low-frequency FMs and high-frequency FMs\n",
    "(ratio_low, ratio_high) = spg.gft.determine_frequency_ratio(adata, ratio_neighbors=1, spatial_info='spatial')\n",
    "# calculation\n",
    "gene_df = spg.detect_svg(adata,\n",
    "                         spatial_info='spatial',\n",
    "                         ratio_low_freq=ratio_low,\n",
    "                         ratio_high_freq=ratio_high,\n",
    "                         ratio_neighbors=1,\n",
    "                         filter_peaks=True,\n",
    "                         S=6)\n",
    "# S determines the  sensitivity of kneedle algorithm\n",
    "# extract spaitally variable genes\n",
    "svg_list = gene_df[gene_df.cutoff_gft_score][gene_df.qvalue < 0.05].index.tolist()\n",
    "print(\"The number of SVGs: \", len(svg_list))"
   ]
  },
  {
   "cell_type": "code",
   "execution_count": null,
   "id": "ce94366a-526a-4998-a055-d1f235c8e06a",
   "metadata": {},
   "outputs": [],
   "source": [
    "with open('SVG_SpaGFT_embryo', 'wb') as f:\n",
    "    pickle.dump(svg_list, f)"
   ]
  },
  {
   "cell_type": "code",
   "execution_count": null,
   "id": "351900fc-2fc2-4ab9-ba6e-1854aa1c2c98",
   "metadata": {},
   "outputs": [],
   "source": [
    "with open('SVG_SpaGFT_brain', 'wb') as f:\n",
    "    pickle.dump(svg_list, f)"
   ]
  }
 ],
 "metadata": {
  "kernelspec": {
   "display_name": "Python 3 (ipykernel)",
   "language": "python",
   "name": "python3"
  },
  "language_info": {
   "codemirror_mode": {
    "name": "ipython",
    "version": 3
   },
   "file_extension": ".py",
   "mimetype": "text/x-python",
   "name": "python",
   "nbconvert_exporter": "python",
   "pygments_lexer": "ipython3",
   "version": "3.8.12"
  }
 },
 "nbformat": 4,
 "nbformat_minor": 5
}
